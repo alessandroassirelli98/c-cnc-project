{
 "cells": [
  {
   "cell_type": "code",
   "execution_count": 170,
   "metadata": {},
   "outputs": [],
   "source": [
    "import matplotlib.pyplot as plt\n",
    "import matplotlib.cm as cm\n",
    "import matplotlib\n",
    "%matplotlib qt5\n",
    "import pandas as pd\n",
    "import numpy as np\n",
    "plt.style.use(\"seaborn\")"
   ]
  },
  {
   "cell_type": "code",
   "execution_count": 171,
   "metadata": {},
   "outputs": [],
   "source": [
    "h = [\"n\", \"t\", \"tt\", \"lmbd\", \"lambda * block_length\", \"f\", \"x\", \"y\", \"z\"]\n",
    "data = pd.read_csv(\"test.csv\", names=h)"
   ]
  },
  {
   "cell_type": "code",
   "execution_count": 172,
   "metadata": {},
   "outputs": [
    {
     "data": {
      "text/html": [
       "<div>\n",
       "<style scoped>\n",
       "    .dataframe tbody tr th:only-of-type {\n",
       "        vertical-align: middle;\n",
       "    }\n",
       "\n",
       "    .dataframe tbody tr th {\n",
       "        vertical-align: top;\n",
       "    }\n",
       "\n",
       "    .dataframe thead th {\n",
       "        text-align: right;\n",
       "    }\n",
       "</style>\n",
       "<table border=\"1\" class=\"dataframe\">\n",
       "  <thead>\n",
       "    <tr style=\"text-align: right;\">\n",
       "      <th></th>\n",
       "      <th>n</th>\n",
       "      <th>t</th>\n",
       "      <th>tt</th>\n",
       "      <th>lmbd</th>\n",
       "      <th>lambda * block_length</th>\n",
       "      <th>f</th>\n",
       "      <th>x</th>\n",
       "      <th>y</th>\n",
       "      <th>z</th>\n",
       "    </tr>\n",
       "  </thead>\n",
       "  <tbody>\n",
       "    <tr>\n",
       "      <th>0</th>\n",
       "      <td>20</td>\n",
       "      <td>0.000</td>\n",
       "      <td>0.000</td>\n",
       "      <td>0.000000</td>\n",
       "      <td>0.000000</td>\n",
       "      <td>0.000000</td>\n",
       "      <td>0.0</td>\n",
       "      <td>0.0</td>\n",
       "      <td>10.000000</td>\n",
       "    </tr>\n",
       "    <tr>\n",
       "      <th>1</th>\n",
       "      <td>20</td>\n",
       "      <td>0.005</td>\n",
       "      <td>0.005</td>\n",
       "      <td>0.000125</td>\n",
       "      <td>0.001247</td>\n",
       "      <td>29.931624</td>\n",
       "      <td>0.0</td>\n",
       "      <td>0.0</td>\n",
       "      <td>9.998753</td>\n",
       "    </tr>\n",
       "    <tr>\n",
       "      <th>2</th>\n",
       "      <td>20</td>\n",
       "      <td>0.010</td>\n",
       "      <td>0.010</td>\n",
       "      <td>0.000499</td>\n",
       "      <td>0.004989</td>\n",
       "      <td>59.863248</td>\n",
       "      <td>0.0</td>\n",
       "      <td>0.0</td>\n",
       "      <td>9.995011</td>\n",
       "    </tr>\n",
       "    <tr>\n",
       "      <th>3</th>\n",
       "      <td>20</td>\n",
       "      <td>0.015</td>\n",
       "      <td>0.015</td>\n",
       "      <td>0.001122</td>\n",
       "      <td>0.011224</td>\n",
       "      <td>89.794872</td>\n",
       "      <td>0.0</td>\n",
       "      <td>0.0</td>\n",
       "      <td>9.988776</td>\n",
       "    </tr>\n",
       "    <tr>\n",
       "      <th>4</th>\n",
       "      <td>20</td>\n",
       "      <td>0.020</td>\n",
       "      <td>0.020</td>\n",
       "      <td>0.001995</td>\n",
       "      <td>0.019954</td>\n",
       "      <td>119.726497</td>\n",
       "      <td>0.0</td>\n",
       "      <td>0.0</td>\n",
       "      <td>9.980046</td>\n",
       "    </tr>\n",
       "    <tr>\n",
       "      <th>...</th>\n",
       "      <td>...</td>\n",
       "      <td>...</td>\n",
       "      <td>...</td>\n",
       "      <td>...</td>\n",
       "      <td>...</td>\n",
       "      <td>...</td>\n",
       "      <td>...</td>\n",
       "      <td>...</td>\n",
       "      <td>...</td>\n",
       "    </tr>\n",
       "    <tr>\n",
       "      <th>633</th>\n",
       "      <td>140</td>\n",
       "      <td>0.750</td>\n",
       "      <td>3.165</td>\n",
       "      <td>0.998465</td>\n",
       "      <td>9.984649</td>\n",
       "      <td>105.011240</td>\n",
       "      <td>65.0</td>\n",
       "      <td>-15.0</td>\n",
       "      <td>9.984649</td>\n",
       "    </tr>\n",
       "    <tr>\n",
       "      <th>634</th>\n",
       "      <td>140</td>\n",
       "      <td>0.755</td>\n",
       "      <td>3.170</td>\n",
       "      <td>0.999215</td>\n",
       "      <td>9.992153</td>\n",
       "      <td>75.079616</td>\n",
       "      <td>65.0</td>\n",
       "      <td>-15.0</td>\n",
       "      <td>9.992153</td>\n",
       "    </tr>\n",
       "    <tr>\n",
       "      <th>635</th>\n",
       "      <td>140</td>\n",
       "      <td>0.760</td>\n",
       "      <td>3.175</td>\n",
       "      <td>0.999716</td>\n",
       "      <td>9.997163</td>\n",
       "      <td>45.147992</td>\n",
       "      <td>65.0</td>\n",
       "      <td>-15.0</td>\n",
       "      <td>9.997163</td>\n",
       "    </tr>\n",
       "    <tr>\n",
       "      <th>636</th>\n",
       "      <td>140</td>\n",
       "      <td>0.765</td>\n",
       "      <td>3.180</td>\n",
       "      <td>0.999968</td>\n",
       "      <td>9.999678</td>\n",
       "      <td>15.216367</td>\n",
       "      <td>65.0</td>\n",
       "      <td>-15.0</td>\n",
       "      <td>9.999678</td>\n",
       "    </tr>\n",
       "    <tr>\n",
       "      <th>637</th>\n",
       "      <td>140</td>\n",
       "      <td>0.770</td>\n",
       "      <td>3.185</td>\n",
       "      <td>1.000000</td>\n",
       "      <td>10.000000</td>\n",
       "      <td>0.000000</td>\n",
       "      <td>65.0</td>\n",
       "      <td>-15.0</td>\n",
       "      <td>10.000000</td>\n",
       "    </tr>\n",
       "  </tbody>\n",
       "</table>\n",
       "<p>638 rows × 9 columns</p>\n",
       "</div>"
      ],
      "text/plain": [
       "       n      t     tt      lmbd  lambda * block_length           f     x  \\\n",
       "0     20  0.000  0.000  0.000000               0.000000    0.000000   0.0   \n",
       "1     20  0.005  0.005  0.000125               0.001247   29.931624   0.0   \n",
       "2     20  0.010  0.010  0.000499               0.004989   59.863248   0.0   \n",
       "3     20  0.015  0.015  0.001122               0.011224   89.794872   0.0   \n",
       "4     20  0.020  0.020  0.001995               0.019954  119.726497   0.0   \n",
       "..   ...    ...    ...       ...                    ...         ...   ...   \n",
       "633  140  0.750  3.165  0.998465               9.984649  105.011240  65.0   \n",
       "634  140  0.755  3.170  0.999215               9.992153   75.079616  65.0   \n",
       "635  140  0.760  3.175  0.999716               9.997163   45.147992  65.0   \n",
       "636  140  0.765  3.180  0.999968               9.999678   15.216367  65.0   \n",
       "637  140  0.770  3.185  1.000000              10.000000    0.000000  65.0   \n",
       "\n",
       "        y          z  \n",
       "0     0.0  10.000000  \n",
       "1     0.0   9.998753  \n",
       "2     0.0   9.995011  \n",
       "3     0.0   9.988776  \n",
       "4     0.0   9.980046  \n",
       "..    ...        ...  \n",
       "633 -15.0   9.984649  \n",
       "634 -15.0   9.992153  \n",
       "635 -15.0   9.997163  \n",
       "636 -15.0   9.999678  \n",
       "637 -15.0  10.000000  \n",
       "\n",
       "[638 rows x 9 columns]"
      ]
     },
     "execution_count": 172,
     "metadata": {},
     "output_type": "execute_result"
    }
   ],
   "source": [
    "data"
   ]
  },
  {
   "cell_type": "code",
   "execution_count": 173,
   "metadata": {},
   "outputs": [],
   "source": [
    "n = \"50\"\n",
    "idx = data.index[data[\"n\"] == n]\n",
    "plt.plot(data.tt[idx], data.lmbd[idx])\n",
    "plt.show()"
   ]
  },
  {
   "cell_type": "code",
   "execution_count": 174,
   "metadata": {},
   "outputs": [],
   "source": [
    "transition = []\n",
    "for i in range(len(data.n)):\n",
    "    if i>0 and data.n.iloc[i - 1] != data.n.iloc[i]:\n",
    "        transition.append(data.tt[i])\n",
    "        "
   ]
  },
  {
   "cell_type": "code",
   "execution_count": 176,
   "metadata": {},
   "outputs": [
    {
     "data": {
      "text/plain": [
       "[<matplotlib.lines.Line2D at 0x7fdd710a5610>,\n",
       " <matplotlib.lines.Line2D at 0x7fdd710a5ac0>,\n",
       " <matplotlib.lines.Line2D at 0x7fdd710a5e20>,\n",
       " <matplotlib.lines.Line2D at 0x7fdd710b51c0>,\n",
       " <matplotlib.lines.Line2D at 0x7fdd710a5190>,\n",
       " <matplotlib.lines.Line2D at 0x7fdd710b56a0>,\n",
       " <matplotlib.lines.Line2D at 0x7fdd710b5a00>,\n",
       " <matplotlib.lines.Line2D at 0x7fdd710b5d60>,\n",
       " <matplotlib.lines.Line2D at 0x7fdd7103e100>,\n",
       " <matplotlib.lines.Line2D at 0x7fdd7103e460>,\n",
       " <matplotlib.lines.Line2D at 0x7fdd7103e7c0>,\n",
       " <matplotlib.lines.Line2D at 0x7fdd7103eb20>,\n",
       " <matplotlib.lines.Line2D at 0x7fdd7103ee80>]"
      ]
     },
     "execution_count": 176,
     "metadata": {},
     "output_type": "execute_result"
    }
   ],
   "source": [
    "plt.figure(figsize=(20, 6), dpi=90)\n",
    "plt.plot(data.tt, data.f)\n",
    "\n",
    "[plt.axvline(t, linestyle = '--', color=\"black\", linewidth = 0.5) for t in transition]"
   ]
  },
  {
   "cell_type": "code",
   "execution_count": 167,
   "metadata": {},
   "outputs": [],
   "source": [
    "plt.figure(figsize=(20, 6), dpi=90)\n",
    "plt.plot(data.x, data.y)\n",
    "plt.gca().set_aspect('equal')\n",
    "plt.show()"
   ]
  },
  {
   "cell_type": "code",
   "execution_count": 165,
   "metadata": {},
   "outputs": [
    {
     "name": "stderr",
     "output_type": "stream",
     "text": [
      "/tmp/ipykernel_65468/2812121429.py:14: MatplotlibDeprecationWarning: Auto-removal of grids by pcolor() and pcolormesh() is deprecated since 3.5 and will be removed two minor releases later; please call grid(False) first.\n",
      "  plt.colorbar(colormap)\n"
     ]
    },
    {
     "data": {
      "text/plain": [
       "<matplotlib.colorbar.Colorbar at 0x7fdd72a29dc0>"
      ]
     },
     "execution_count": 165,
     "metadata": {},
     "output_type": "execute_result"
    }
   ],
   "source": [
    "def plot_colourline(x,y,c):\n",
    "    cm = plt.get_cmap(\"viridis\")\n",
    "    norm = matplotlib.colors.Normalize(vmin=min(c), vmax=max(c))\n",
    "    sm = plt.cm.ScalarMappable(cmap=cm, norm=norm)\n",
    "    sm.set_array([])\n",
    "    ax = plt.gca()\n",
    "    for i in np.arange(len(x)-1):\n",
    "        ax.plot([x[i],x[i+1]], [y[i],y[i+1]], c=cm(norm(c[i])), linewidth = 5)\n",
    "    return sm, cm\n",
    "\n",
    "plt.figure(figsize=(20, 6), dpi=90)\n",
    "plt.gca().set_aspect('equal')\n",
    "colormap, _ = plot_colourline(data.x, data.y, data.f)\n",
    "plt.colorbar(colormap)\n"
   ]
  },
  {
   "cell_type": "code",
   "execution_count": null,
   "metadata": {},
   "outputs": [],
   "source": []
  },
  {
   "cell_type": "code",
   "execution_count": null,
   "metadata": {},
   "outputs": [],
   "source": []
  }
 ],
 "metadata": {
  "kernelspec": {
   "display_name": "Python 3.8.10 64-bit",
   "language": "python",
   "name": "python3"
  },
  "language_info": {
   "codemirror_mode": {
    "name": "ipython",
    "version": 3
   },
   "file_extension": ".py",
   "mimetype": "text/x-python",
   "name": "python",
   "nbconvert_exporter": "python",
   "pygments_lexer": "ipython3",
   "version": "3.8.10"
  },
  "orig_nbformat": 4,
  "vscode": {
   "interpreter": {
    "hash": "916dbcbb3f70747c44a77c7bcd40155683ae19c65e1c03b4aa3499c5328201f1"
   }
  }
 },
 "nbformat": 4,
 "nbformat_minor": 2
}
