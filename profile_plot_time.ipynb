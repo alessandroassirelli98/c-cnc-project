{
 "cells": [
  {
   "cell_type": "code",
   "execution_count": 113,
   "metadata": {},
   "outputs": [],
   "source": [
    "import matplotlib.pyplot as plt\n",
    "import matplotlib.cm as cm\n",
    "import matplotlib\n",
    "%matplotlib qt5\n",
    "import pandas as pd\n",
    "import numpy as np\n",
    "plt.style.use(\"seaborn\")"
   ]
  },
  {
   "cell_type": "code",
   "execution_count": 114,
   "metadata": {},
   "outputs": [],
   "source": [
    "h = [\"n\", \"t\", \"tt\", \"lmbd\", \"lambda * block_length\", \"f\", \"x\", \"y\", \"z\"]\n",
    "data = pd.read_csv(\"velocity_profile_t.csv\")"
   ]
  },
  {
   "cell_type": "code",
   "execution_count": 115,
   "metadata": {},
   "outputs": [
    {
     "data": {
      "text/html": [
       "<div>\n",
       "<style scoped>\n",
       "    .dataframe tbody tr th:only-of-type {\n",
       "        vertical-align: middle;\n",
       "    }\n",
       "\n",
       "    .dataframe tbody tr th {\n",
       "        vertical-align: top;\n",
       "    }\n",
       "\n",
       "    .dataframe thead th {\n",
       "        text-align: right;\n",
       "    }\n",
       "</style>\n",
       "<table border=\"1\" class=\"dataframe\">\n",
       "  <thead>\n",
       "    <tr style=\"text-align: right;\">\n",
       "      <th></th>\n",
       "      <th>n</th>\n",
       "      <th>t_tot</th>\n",
       "      <th>t_blk</th>\n",
       "      <th>lambda</th>\n",
       "      <th>s</th>\n",
       "      <th>feed</th>\n",
       "      <th>x</th>\n",
       "      <th>y</th>\n",
       "      <th>z</th>\n",
       "    </tr>\n",
       "  </thead>\n",
       "  <tbody>\n",
       "    <tr>\n",
       "      <th>0</th>\n",
       "      <td>20</td>\n",
       "      <td>0.010</td>\n",
       "      <td>0.000000</td>\n",
       "      <td>0.000000</td>\n",
       "      <td>0.000000</td>\n",
       "      <td>0.000000</td>\n",
       "      <td>0.0</td>\n",
       "      <td>0.0</td>\n",
       "      <td>10.000000</td>\n",
       "    </tr>\n",
       "    <tr>\n",
       "      <th>1</th>\n",
       "      <td>20</td>\n",
       "      <td>0.015</td>\n",
       "      <td>0.005000</td>\n",
       "      <td>0.000125</td>\n",
       "      <td>0.001250</td>\n",
       "      <td>29.988969</td>\n",
       "      <td>0.0</td>\n",
       "      <td>0.0</td>\n",
       "      <td>9.998750</td>\n",
       "    </tr>\n",
       "    <tr>\n",
       "      <th>2</th>\n",
       "      <td>20</td>\n",
       "      <td>0.020</td>\n",
       "      <td>0.010000</td>\n",
       "      <td>0.000500</td>\n",
       "      <td>0.004998</td>\n",
       "      <td>59.977938</td>\n",
       "      <td>0.0</td>\n",
       "      <td>0.0</td>\n",
       "      <td>9.995002</td>\n",
       "    </tr>\n",
       "    <tr>\n",
       "      <th>3</th>\n",
       "      <td>20</td>\n",
       "      <td>0.025</td>\n",
       "      <td>0.015000</td>\n",
       "      <td>0.001125</td>\n",
       "      <td>0.011246</td>\n",
       "      <td>89.966907</td>\n",
       "      <td>0.0</td>\n",
       "      <td>0.0</td>\n",
       "      <td>9.988754</td>\n",
       "    </tr>\n",
       "    <tr>\n",
       "      <th>4</th>\n",
       "      <td>20</td>\n",
       "      <td>0.030</td>\n",
       "      <td>0.020000</td>\n",
       "      <td>0.001999</td>\n",
       "      <td>0.019993</td>\n",
       "      <td>119.955876</td>\n",
       "      <td>0.0</td>\n",
       "      <td>0.0</td>\n",
       "      <td>9.980007</td>\n",
       "    </tr>\n",
       "    <tr>\n",
       "      <th>...</th>\n",
       "      <td>...</td>\n",
       "      <td>...</td>\n",
       "      <td>...</td>\n",
       "      <td>...</td>\n",
       "      <td>...</td>\n",
       "      <td>...</td>\n",
       "      <td>...</td>\n",
       "      <td>...</td>\n",
       "      <td>...</td>\n",
       "    </tr>\n",
       "    <tr>\n",
       "      <th>752</th>\n",
       "      <td>140</td>\n",
       "      <td>3.770</td>\n",
       "      <td>0.797352</td>\n",
       "      <td>1.000000</td>\n",
       "      <td>10.000000</td>\n",
       "      <td>0.000000</td>\n",
       "      <td>65.0</td>\n",
       "      <td>-15.0</td>\n",
       "      <td>10.000000</td>\n",
       "    </tr>\n",
       "    <tr>\n",
       "      <th>753</th>\n",
       "      <td>140</td>\n",
       "      <td>3.775</td>\n",
       "      <td>0.802352</td>\n",
       "      <td>1.000000</td>\n",
       "      <td>10.000000</td>\n",
       "      <td>0.000000</td>\n",
       "      <td>65.0</td>\n",
       "      <td>-15.0</td>\n",
       "      <td>10.000000</td>\n",
       "    </tr>\n",
       "    <tr>\n",
       "      <th>754</th>\n",
       "      <td>140</td>\n",
       "      <td>3.780</td>\n",
       "      <td>0.807352</td>\n",
       "      <td>1.000000</td>\n",
       "      <td>10.000000</td>\n",
       "      <td>0.000000</td>\n",
       "      <td>65.0</td>\n",
       "      <td>-15.0</td>\n",
       "      <td>10.000000</td>\n",
       "    </tr>\n",
       "    <tr>\n",
       "      <th>755</th>\n",
       "      <td>140</td>\n",
       "      <td>3.785</td>\n",
       "      <td>0.812352</td>\n",
       "      <td>1.000000</td>\n",
       "      <td>10.000000</td>\n",
       "      <td>0.000000</td>\n",
       "      <td>65.0</td>\n",
       "      <td>-15.0</td>\n",
       "      <td>10.000000</td>\n",
       "    </tr>\n",
       "    <tr>\n",
       "      <th>756</th>\n",
       "      <td>140</td>\n",
       "      <td>3.790</td>\n",
       "      <td>0.817352</td>\n",
       "      <td>1.000000</td>\n",
       "      <td>10.000000</td>\n",
       "      <td>0.000000</td>\n",
       "      <td>65.0</td>\n",
       "      <td>-15.0</td>\n",
       "      <td>10.000000</td>\n",
       "    </tr>\n",
       "  </tbody>\n",
       "</table>\n",
       "<p>757 rows × 9 columns</p>\n",
       "</div>"
      ],
      "text/plain": [
       "       n  t_tot     t_blk    lambda          s        feed     x     y  \\\n",
       "0     20  0.010  0.000000  0.000000   0.000000    0.000000   0.0   0.0   \n",
       "1     20  0.015  0.005000  0.000125   0.001250   29.988969   0.0   0.0   \n",
       "2     20  0.020  0.010000  0.000500   0.004998   59.977938   0.0   0.0   \n",
       "3     20  0.025  0.015000  0.001125   0.011246   89.966907   0.0   0.0   \n",
       "4     20  0.030  0.020000  0.001999   0.019993  119.955876   0.0   0.0   \n",
       "..   ...    ...       ...       ...        ...         ...   ...   ...   \n",
       "752  140  3.770  0.797352  1.000000  10.000000    0.000000  65.0 -15.0   \n",
       "753  140  3.775  0.802352  1.000000  10.000000    0.000000  65.0 -15.0   \n",
       "754  140  3.780  0.807352  1.000000  10.000000    0.000000  65.0 -15.0   \n",
       "755  140  3.785  0.812352  1.000000  10.000000    0.000000  65.0 -15.0   \n",
       "756  140  3.790  0.817352  1.000000  10.000000    0.000000  65.0 -15.0   \n",
       "\n",
       "             z  \n",
       "0    10.000000  \n",
       "1     9.998750  \n",
       "2     9.995002  \n",
       "3     9.988754  \n",
       "4     9.980007  \n",
       "..         ...  \n",
       "752  10.000000  \n",
       "753  10.000000  \n",
       "754  10.000000  \n",
       "755  10.000000  \n",
       "756  10.000000  \n",
       "\n",
       "[757 rows x 9 columns]"
      ]
     },
     "execution_count": 115,
     "metadata": {},
     "output_type": "execute_result"
    }
   ],
   "source": [
    "data"
   ]
  },
  {
   "cell_type": "code",
   "execution_count": 116,
   "metadata": {},
   "outputs": [],
   "source": [
    "transition = []\n",
    "for i in range(len(data.n)):\n",
    "    if i>0 and data.n.iloc[i - 1] != data.n.iloc[i]:\n",
    "        transition.append(data.t_tot[i])\n",
    "        "
   ]
  },
  {
   "cell_type": "code",
   "execution_count": 117,
   "metadata": {},
   "outputs": [
    {
     "data": {
      "text/plain": [
       "[<matplotlib.lines.Line2D at 0x7f0610d0c400>,\n",
       " <matplotlib.lines.Line2D at 0x7f0610d0c8b0>,\n",
       " <matplotlib.lines.Line2D at 0x7f0610d0cc10>,\n",
       " <matplotlib.lines.Line2D at 0x7f0610d0cf70>,\n",
       " <matplotlib.lines.Line2D at 0x7f0610d1d130>,\n",
       " <matplotlib.lines.Line2D at 0x7f0610d1d490>,\n",
       " <matplotlib.lines.Line2D at 0x7f0610d1d7f0>,\n",
       " <matplotlib.lines.Line2D at 0x7f0610d1db50>,\n",
       " <matplotlib.lines.Line2D at 0x7f0610d1deb0>,\n",
       " <matplotlib.lines.Line2D at 0x7f0610d25250>,\n",
       " <matplotlib.lines.Line2D at 0x7f0610d255b0>,\n",
       " <matplotlib.lines.Line2D at 0x7f0610d25910>]"
      ]
     },
     "execution_count": 117,
     "metadata": {},
     "output_type": "execute_result"
    }
   ],
   "source": [
    "plt.figure(figsize=(20, 6), dpi=90)\n",
    "plt.plot(data.t_tot, data.feed)\n",
    "\n",
    "[plt.axvline(t, linestyle = '--', color=\"black\", linewidth = 0.5) for t in transition]"
   ]
  },
  {
   "cell_type": "code",
   "execution_count": 53,
   "metadata": {},
   "outputs": [],
   "source": [
    "plt.figure(figsize=(20, 20), dpi=90)\n",
    "plt.plot(data.x, data.y)\n",
    "plt.gca().set_aspect('equal')\n",
    "plt.show()"
   ]
  },
  {
   "cell_type": "code",
   "execution_count": 59,
   "metadata": {},
   "outputs": [
    {
     "name": "stderr",
     "output_type": "stream",
     "text": [
      "/tmp/ipykernel_77854/3486939117.py:17: MatplotlibDeprecationWarning: Auto-removal of grids by pcolor() and pcolormesh() is deprecated since 3.5 and will be removed two minor releases later; please call grid(False) first.\n",
      "  cbar = plt.colorbar(colormap)\n"
     ]
    },
    {
     "data": {
      "text/plain": [
       "[<matplotlib.lines.Line2D at 0x7f060ffd9b20>,\n",
       " <matplotlib.lines.Line2D at 0x7f060ffd9f70>,\n",
       " <matplotlib.lines.Line2D at 0x7f060ffc93a0>,\n",
       " <matplotlib.lines.Line2D at 0x7f060ffc9700>,\n",
       " <matplotlib.lines.Line2D at 0x7f060ffac730>,\n",
       " <matplotlib.lines.Line2D at 0x7f060ffc9be0>,\n",
       " <matplotlib.lines.Line2D at 0x7f060ffc9f40>,\n",
       " <matplotlib.lines.Line2D at 0x7f060ffbc2e0>,\n",
       " <matplotlib.lines.Line2D at 0x7f060ffbc640>,\n",
       " <matplotlib.lines.Line2D at 0x7f060ffbc9a0>,\n",
       " <matplotlib.lines.Line2D at 0x7f060ffbcd00>,\n",
       " <matplotlib.lines.Line2D at 0x7f060ffdd0a0>]"
      ]
     },
     "execution_count": 59,
     "metadata": {},
     "output_type": "execute_result"
    }
   ],
   "source": [
    "def plot_colourline(x,y,c):\n",
    "    cm = plt.get_cmap(\"viridis\")\n",
    "    norm = matplotlib.colors.Normalize(vmin=min(c), vmax=max(c))\n",
    "    sm = plt.cm.ScalarMappable(cmap=cm, norm=norm)\n",
    "    sm.set_array([])\n",
    "    ax = plt.subplot(2,1,1)\n",
    "    plt.title(\"Interpolated path with velocities\")\n",
    "    for i in np.arange(len(x)-1):\n",
    "        ax.plot([x[i],x[i+1]], [y[i],y[i+1]], c=cm(norm(c[i])), linewidth = 5)\n",
    "    plt.xlabel(\"X [mm]\")\n",
    "    plt.ylabel(\"Y [mm]\")\n",
    "    return sm, cm\n",
    "\n",
    "plt.figure(figsize=(20, 15), dpi=90)\n",
    "plt.gca().set_aspect('equal')\n",
    "colormap, _ = plot_colourline(data.x, data.y, data.feed)\n",
    "cbar = plt.colorbar(colormap)\n",
    "cbar.set_label(\"Feedrate [mm/min]\", labelpad=10)\n",
    "\n",
    "plt.subplot(2,1,2)\n",
    "plt.title(\"Velocity profile\")\n",
    "plt.plot(data.t_tot, data.feed)\n",
    "plt.xlabel(\"t [s]\")\n",
    "plt.ylabel(\"F [mm/min]\")\n",
    "[plt.axvline(t, linestyle = '--', color=\"black\", linewidth = 0.5) for t in transition]\n"
   ]
  },
  {
   "cell_type": "code",
   "execution_count": 47,
   "metadata": {},
   "outputs": [
    {
     "ename": "AttributeError",
     "evalue": "'DataFrame' object has no attribute 'f'",
     "output_type": "error",
     "traceback": [
      "\u001b[0;31m---------------------------------------------------------------------------\u001b[0m",
      "\u001b[0;31mAttributeError\u001b[0m                            Traceback (most recent call last)",
      "\u001b[1;32m/home/ale/devel/precision-engineering-course/c-cnc/profile_plot_time.ipynb Cell 8\u001b[0m in \u001b[0;36m<cell line: 16>\u001b[0;34m()\u001b[0m\n\u001b[1;32m     <a href='vscode-notebook-cell:/home/ale/devel/precision-engineering-course/c-cnc/profile_plot_time.ipynb#X10sZmlsZQ%3D%3D?line=13'>14</a>\u001b[0m plt\u001b[39m.\u001b[39mfigure(figsize\u001b[39m=\u001b[39m(\u001b[39m20\u001b[39m, \u001b[39m15\u001b[39m), dpi\u001b[39m=\u001b[39m\u001b[39m90\u001b[39m)\n\u001b[1;32m     <a href='vscode-notebook-cell:/home/ale/devel/precision-engineering-course/c-cnc/profile_plot_time.ipynb#X10sZmlsZQ%3D%3D?line=14'>15</a>\u001b[0m plt\u001b[39m.\u001b[39mgca()\u001b[39m.\u001b[39mset_aspect(\u001b[39m'\u001b[39m\u001b[39mequal\u001b[39m\u001b[39m'\u001b[39m)\n\u001b[0;32m---> <a href='vscode-notebook-cell:/home/ale/devel/precision-engineering-course/c-cnc/profile_plot_time.ipynb#X10sZmlsZQ%3D%3D?line=15'>16</a>\u001b[0m colormap, _ \u001b[39m=\u001b[39m plot_colourline(data\u001b[39m.\u001b[39mx, data\u001b[39m.\u001b[39mz, data\u001b[39m.\u001b[39;49mf)\n\u001b[1;32m     <a href='vscode-notebook-cell:/home/ale/devel/precision-engineering-course/c-cnc/profile_plot_time.ipynb#X10sZmlsZQ%3D%3D?line=16'>17</a>\u001b[0m cbar \u001b[39m=\u001b[39m plt\u001b[39m.\u001b[39mcolorbar(colormap)\n\u001b[1;32m     <a href='vscode-notebook-cell:/home/ale/devel/precision-engineering-course/c-cnc/profile_plot_time.ipynb#X10sZmlsZQ%3D%3D?line=17'>18</a>\u001b[0m cbar\u001b[39m.\u001b[39mset_label(\u001b[39m\"\u001b[39m\u001b[39mFeedrate [mm/min]\u001b[39m\u001b[39m\"\u001b[39m, labelpad\u001b[39m=\u001b[39m\u001b[39m10\u001b[39m)\n",
      "File \u001b[0;32m~/.local/lib/python3.8/site-packages/pandas/core/generic.py:5583\u001b[0m, in \u001b[0;36mNDFrame.__getattr__\u001b[0;34m(self, name)\u001b[0m\n\u001b[1;32m   5576\u001b[0m \u001b[39mif\u001b[39;00m (\n\u001b[1;32m   5577\u001b[0m     name \u001b[39mnot\u001b[39;00m \u001b[39min\u001b[39;00m \u001b[39mself\u001b[39m\u001b[39m.\u001b[39m_internal_names_set\n\u001b[1;32m   5578\u001b[0m     \u001b[39mand\u001b[39;00m name \u001b[39mnot\u001b[39;00m \u001b[39min\u001b[39;00m \u001b[39mself\u001b[39m\u001b[39m.\u001b[39m_metadata\n\u001b[1;32m   5579\u001b[0m     \u001b[39mand\u001b[39;00m name \u001b[39mnot\u001b[39;00m \u001b[39min\u001b[39;00m \u001b[39mself\u001b[39m\u001b[39m.\u001b[39m_accessors\n\u001b[1;32m   5580\u001b[0m     \u001b[39mand\u001b[39;00m \u001b[39mself\u001b[39m\u001b[39m.\u001b[39m_info_axis\u001b[39m.\u001b[39m_can_hold_identifiers_and_holds_name(name)\n\u001b[1;32m   5581\u001b[0m ):\n\u001b[1;32m   5582\u001b[0m     \u001b[39mreturn\u001b[39;00m \u001b[39mself\u001b[39m[name]\n\u001b[0;32m-> 5583\u001b[0m \u001b[39mreturn\u001b[39;00m \u001b[39mobject\u001b[39;49m\u001b[39m.\u001b[39;49m\u001b[39m__getattribute__\u001b[39;49m(\u001b[39mself\u001b[39;49m, name)\n",
      "\u001b[0;31mAttributeError\u001b[0m: 'DataFrame' object has no attribute 'f'"
     ]
    }
   ],
   "source": [
    "def plot_colourline(x,y,c):\n",
    "    cm = plt.get_cmap(\"viridis\")\n",
    "    norm = matplotlib.colors.Normalize(vmin=min(c), vmax=max(c))\n",
    "    sm = plt.cm.ScalarMappable(cmap=cm, norm=norm)\n",
    "    sm.set_array([])\n",
    "    ax = plt.subplot(2,1,1)\n",
    "    plt.title(\"Interpolated path with velocities\")\n",
    "    for i in np.arange(len(x)-1):\n",
    "        ax.plot([x[i],x[i+1]], [y[i],y[i+1]], c=cm(norm(c[i])), linewidth = 5)\n",
    "    plt.xlabel(\"X [mm]\")\n",
    "    plt.ylabel(\"Y [mm]\")\n",
    "    return sm, cm\n",
    "\n",
    "plt.figure(figsize=(20, 15), dpi=90)\n",
    "plt.gca().set_aspect('equal')\n",
    "colormap, _ = plot_colourline(data.x, data.z, data.f)\n",
    "cbar = plt.colorbar(colormap)\n",
    "cbar.set_label(\"Feedrate [mm/min]\", labelpad=10)"
   ]
  },
  {
   "cell_type": "code",
   "execution_count": null,
   "metadata": {},
   "outputs": [],
   "source": []
  }
 ],
 "metadata": {
  "kernelspec": {
   "display_name": "Python 3.8.10 64-bit",
   "language": "python",
   "name": "python3"
  },
  "language_info": {
   "codemirror_mode": {
    "name": "ipython",
    "version": 3
   },
   "file_extension": ".py",
   "mimetype": "text/x-python",
   "name": "python",
   "nbconvert_exporter": "python",
   "pygments_lexer": "ipython3",
   "version": "3.8.10"
  },
  "orig_nbformat": 4,
  "vscode": {
   "interpreter": {
    "hash": "916dbcbb3f70747c44a77c7bcd40155683ae19c65e1c03b4aa3499c5328201f1"
   }
  }
 },
 "nbformat": 4,
 "nbformat_minor": 2
}
