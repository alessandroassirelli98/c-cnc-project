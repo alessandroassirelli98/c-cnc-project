{
 "cells": [
  {
   "cell_type": "code",
   "execution_count": 9,
   "metadata": {},
   "outputs": [],
   "source": [
    "import matplotlib.pyplot as plt\n",
    "import matplotlib.cm as cm\n",
    "import matplotlib\n",
    "%matplotlib qt5\n",
    "import pandas as pd\n",
    "import numpy as np\n",
    "plt.style.use(\"seaborn\")"
   ]
  },
  {
   "cell_type": "code",
   "execution_count": 10,
   "metadata": {},
   "outputs": [],
   "source": [
    "h = [\"n\", \"t\", \"tt\", \"lmbd\", \"lambda * block_length\", \"f\", \"x\", \"y\", \"z\"]\n",
    "data = pd.read_csv(\"velocity_profile_t.csv\", names=h)"
   ]
  },
  {
   "cell_type": "code",
   "execution_count": 11,
   "metadata": {},
   "outputs": [
    {
     "data": {
      "text/html": [
       "<div>\n",
       "<style scoped>\n",
       "    .dataframe tbody tr th:only-of-type {\n",
       "        vertical-align: middle;\n",
       "    }\n",
       "\n",
       "    .dataframe tbody tr th {\n",
       "        vertical-align: top;\n",
       "    }\n",
       "\n",
       "    .dataframe thead th {\n",
       "        text-align: right;\n",
       "    }\n",
       "</style>\n",
       "<table border=\"1\" class=\"dataframe\">\n",
       "  <thead>\n",
       "    <tr style=\"text-align: right;\">\n",
       "      <th></th>\n",
       "      <th>n</th>\n",
       "      <th>t</th>\n",
       "      <th>tt</th>\n",
       "      <th>lmbd</th>\n",
       "      <th>lambda * block_length</th>\n",
       "      <th>f</th>\n",
       "      <th>x</th>\n",
       "      <th>y</th>\n",
       "      <th>z</th>\n",
       "    </tr>\n",
       "  </thead>\n",
       "  <tbody>\n",
       "    <tr>\n",
       "      <th>0</th>\n",
       "      <td>20</td>\n",
       "      <td>0.000</td>\n",
       "      <td>0.000</td>\n",
       "      <td>0.000000</td>\n",
       "      <td>0.000000</td>\n",
       "      <td>0.000000</td>\n",
       "      <td>0.0</td>\n",
       "      <td>0.0</td>\n",
       "      <td>10.000000</td>\n",
       "    </tr>\n",
       "    <tr>\n",
       "      <th>1</th>\n",
       "      <td>20</td>\n",
       "      <td>0.015</td>\n",
       "      <td>0.015</td>\n",
       "      <td>0.001122</td>\n",
       "      <td>0.011216</td>\n",
       "      <td>89.726193</td>\n",
       "      <td>0.0</td>\n",
       "      <td>0.0</td>\n",
       "      <td>9.988784</td>\n",
       "    </tr>\n",
       "    <tr>\n",
       "      <th>2</th>\n",
       "      <td>20</td>\n",
       "      <td>0.030</td>\n",
       "      <td>0.030</td>\n",
       "      <td>0.004486</td>\n",
       "      <td>0.044863</td>\n",
       "      <td>179.452386</td>\n",
       "      <td>0.0</td>\n",
       "      <td>0.0</td>\n",
       "      <td>9.955137</td>\n",
       "    </tr>\n",
       "    <tr>\n",
       "      <th>3</th>\n",
       "      <td>20</td>\n",
       "      <td>0.045</td>\n",
       "      <td>0.045</td>\n",
       "      <td>0.010094</td>\n",
       "      <td>0.100942</td>\n",
       "      <td>269.178578</td>\n",
       "      <td>0.0</td>\n",
       "      <td>0.0</td>\n",
       "      <td>9.899058</td>\n",
       "    </tr>\n",
       "    <tr>\n",
       "      <th>4</th>\n",
       "      <td>20</td>\n",
       "      <td>0.060</td>\n",
       "      <td>0.060</td>\n",
       "      <td>0.017945</td>\n",
       "      <td>0.179452</td>\n",
       "      <td>358.904771</td>\n",
       "      <td>0.0</td>\n",
       "      <td>0.0</td>\n",
       "      <td>9.820548</td>\n",
       "    </tr>\n",
       "    <tr>\n",
       "      <th>...</th>\n",
       "      <td>...</td>\n",
       "      <td>...</td>\n",
       "      <td>...</td>\n",
       "      <td>...</td>\n",
       "      <td>...</td>\n",
       "      <td>...</td>\n",
       "      <td>...</td>\n",
       "      <td>...</td>\n",
       "      <td>...</td>\n",
       "    </tr>\n",
       "    <tr>\n",
       "      <th>266</th>\n",
       "      <td>140</td>\n",
       "      <td>0.720</td>\n",
       "      <td>3.990</td>\n",
       "      <td>0.988594</td>\n",
       "      <td>9.885936</td>\n",
       "      <td>286.140120</td>\n",
       "      <td>65.0</td>\n",
       "      <td>-15.0</td>\n",
       "      <td>9.885936</td>\n",
       "    </tr>\n",
       "    <tr>\n",
       "      <th>267</th>\n",
       "      <td>140</td>\n",
       "      <td>0.735</td>\n",
       "      <td>4.005</td>\n",
       "      <td>0.994626</td>\n",
       "      <td>9.946255</td>\n",
       "      <td>196.413927</td>\n",
       "      <td>65.0</td>\n",
       "      <td>-15.0</td>\n",
       "      <td>9.946255</td>\n",
       "    </tr>\n",
       "    <tr>\n",
       "      <th>268</th>\n",
       "      <td>140</td>\n",
       "      <td>0.750</td>\n",
       "      <td>4.020</td>\n",
       "      <td>0.998414</td>\n",
       "      <td>9.984143</td>\n",
       "      <td>106.687735</td>\n",
       "      <td>65.0</td>\n",
       "      <td>-15.0</td>\n",
       "      <td>9.984143</td>\n",
       "    </tr>\n",
       "    <tr>\n",
       "      <th>269</th>\n",
       "      <td>140</td>\n",
       "      <td>0.765</td>\n",
       "      <td>4.035</td>\n",
       "      <td>0.999960</td>\n",
       "      <td>9.999599</td>\n",
       "      <td>16.961542</td>\n",
       "      <td>65.0</td>\n",
       "      <td>-15.0</td>\n",
       "      <td>9.999599</td>\n",
       "    </tr>\n",
       "    <tr>\n",
       "      <th>270</th>\n",
       "      <td>140</td>\n",
       "      <td>0.780</td>\n",
       "      <td>4.050</td>\n",
       "      <td>1.000000</td>\n",
       "      <td>10.000000</td>\n",
       "      <td>0.000000</td>\n",
       "      <td>65.0</td>\n",
       "      <td>-15.0</td>\n",
       "      <td>10.000000</td>\n",
       "    </tr>\n",
       "  </tbody>\n",
       "</table>\n",
       "<p>271 rows × 9 columns</p>\n",
       "</div>"
      ],
      "text/plain": [
       "       n      t     tt      lmbd  lambda * block_length           f     x  \\\n",
       "0     20  0.000  0.000  0.000000               0.000000    0.000000   0.0   \n",
       "1     20  0.015  0.015  0.001122               0.011216   89.726193   0.0   \n",
       "2     20  0.030  0.030  0.004486               0.044863  179.452386   0.0   \n",
       "3     20  0.045  0.045  0.010094               0.100942  269.178578   0.0   \n",
       "4     20  0.060  0.060  0.017945               0.179452  358.904771   0.0   \n",
       "..   ...    ...    ...       ...                    ...         ...   ...   \n",
       "266  140  0.720  3.990  0.988594               9.885936  286.140120  65.0   \n",
       "267  140  0.735  4.005  0.994626               9.946255  196.413927  65.0   \n",
       "268  140  0.750  4.020  0.998414               9.984143  106.687735  65.0   \n",
       "269  140  0.765  4.035  0.999960               9.999599   16.961542  65.0   \n",
       "270  140  0.780  4.050  1.000000              10.000000    0.000000  65.0   \n",
       "\n",
       "        y          z  \n",
       "0     0.0  10.000000  \n",
       "1     0.0   9.988784  \n",
       "2     0.0   9.955137  \n",
       "3     0.0   9.899058  \n",
       "4     0.0   9.820548  \n",
       "..    ...        ...  \n",
       "266 -15.0   9.885936  \n",
       "267 -15.0   9.946255  \n",
       "268 -15.0   9.984143  \n",
       "269 -15.0   9.999599  \n",
       "270 -15.0  10.000000  \n",
       "\n",
       "[271 rows x 9 columns]"
      ]
     },
     "execution_count": 11,
     "metadata": {},
     "output_type": "execute_result"
    }
   ],
   "source": [
    "data"
   ]
  },
  {
   "cell_type": "code",
   "execution_count": 12,
   "metadata": {},
   "outputs": [],
   "source": [
    "transition = []\n",
    "for i in range(len(data.n)):\n",
    "    if i>0 and data.n.iloc[i - 1] != data.n.iloc[i]:\n",
    "        transition.append(data.tt[i])\n",
    "        "
   ]
  },
  {
   "cell_type": "code",
   "execution_count": 13,
   "metadata": {},
   "outputs": [
    {
     "data": {
      "text/plain": [
       "[<matplotlib.lines.Line2D at 0x7fcd12a11f70>,\n",
       " <matplotlib.lines.Line2D at 0x7fcd12a15460>,\n",
       " <matplotlib.lines.Line2D at 0x7fcd12a11b20>,\n",
       " <matplotlib.lines.Line2D at 0x7fcd12a15940>,\n",
       " <matplotlib.lines.Line2D at 0x7fcd12a15ca0>,\n",
       " <matplotlib.lines.Line2D at 0x7fcd12a15fd0>,\n",
       " <matplotlib.lines.Line2D at 0x7fcd129f83a0>,\n",
       " <matplotlib.lines.Line2D at 0x7fcd129f8700>,\n",
       " <matplotlib.lines.Line2D at 0x7fcd129f8a60>,\n",
       " <matplotlib.lines.Line2D at 0x7fcd129f8dc0>,\n",
       " <matplotlib.lines.Line2D at 0x7fcd040d1160>,\n",
       " <matplotlib.lines.Line2D at 0x7fcd040d14c0>]"
      ]
     },
     "execution_count": 13,
     "metadata": {},
     "output_type": "execute_result"
    }
   ],
   "source": [
    "plt.figure(figsize=(20, 6), dpi=90)\n",
    "plt.plot(data.tt, data.f)\n",
    "\n",
    "[plt.axvline(t, linestyle = '--', color=\"black\", linewidth = 0.5) for t in transition]"
   ]
  },
  {
   "cell_type": "code",
   "execution_count": 8,
   "metadata": {},
   "outputs": [],
   "source": [
    "plt.figure(figsize=(20, 20), dpi=90)\n",
    "plt.plot(data.x, data.y)\n",
    "plt.gca().set_aspect('equal')\n",
    "plt.show()"
   ]
  },
  {
   "cell_type": "code",
   "execution_count": null,
   "metadata": {},
   "outputs": [
    {
     "name": "stderr",
     "output_type": "stream",
     "text": [
      "/tmp/ipykernel_13202/1480528821.py:17: MatplotlibDeprecationWarning: Auto-removal of grids by pcolor() and pcolormesh() is deprecated since 3.5 and will be removed two minor releases later; please call grid(False) first.\n",
      "  cbar = plt.colorbar(colormap)\n"
     ]
    },
    {
     "data": {
      "text/plain": [
       "[<matplotlib.lines.Line2D at 0x7f9cd511fd30>,\n",
       " <matplotlib.lines.Line2D at 0x7f9cd5134250>,\n",
       " <matplotlib.lines.Line2D at 0x7f9cd51345b0>,\n",
       " <matplotlib.lines.Line2D at 0x7f9cd511f880>,\n",
       " <matplotlib.lines.Line2D at 0x7f9cd51766a0>,\n",
       " <matplotlib.lines.Line2D at 0x7f9cd5134bb0>,\n",
       " <matplotlib.lines.Line2D at 0x7f9cd5134f10>,\n",
       " <matplotlib.lines.Line2D at 0x7f9cd513d2b0>,\n",
       " <matplotlib.lines.Line2D at 0x7f9cd513d610>,\n",
       " <matplotlib.lines.Line2D at 0x7f9cd513d970>,\n",
       " <matplotlib.lines.Line2D at 0x7f9cd513dcd0>,\n",
       " <matplotlib.lines.Line2D at 0x7f9cd5149070>]"
      ]
     },
     "execution_count": 7,
     "metadata": {},
     "output_type": "execute_result"
    }
   ],
   "source": [
    "def plot_colourline(x,y,c):\n",
    "    cm = plt.get_cmap(\"viridis\")\n",
    "    norm = matplotlib.colors.Normalize(vmin=min(c), vmax=max(c))\n",
    "    sm = plt.cm.ScalarMappable(cmap=cm, norm=norm)\n",
    "    sm.set_array([])\n",
    "    ax = plt.subplot(2,1,1)\n",
    "    plt.title(\"Interpolated path with velocities\")\n",
    "    for i in np.arange(len(x)-1):\n",
    "        ax.plot([x[i],x[i+1]], [y[i],y[i+1]], c=cm(norm(c[i])), linewidth = 5)\n",
    "    plt.xlabel(\"X [mm]\")\n",
    "    plt.ylabel(\"Y [mm]\")\n",
    "    return sm, cm\n",
    "\n",
    "plt.figure(figsize=(20, 15), dpi=90)\n",
    "plt.gca().set_aspect('equal')\n",
    "colormap, _ = plot_colourline(data.x, data.y, data.f)\n",
    "cbar = plt.colorbar(colormap)\n",
    "cbar.set_label(\"Feedrate [mm/min]\", labelpad=10)\n",
    "\n",
    "plt.subplot(2,1,2)\n",
    "plt.title(\"Velocity profile\")\n",
    "plt.plot(data.tt, data.f)\n",
    "plt.xlabel(\"t [s]\")\n",
    "plt.ylabel(\"F [mm/min]\")\n",
    "[plt.axvline(t, linestyle = '--', color=\"black\", linewidth = 0.5) for t in transition]\n"
   ]
  },
  {
   "cell_type": "code",
   "execution_count": 14,
   "metadata": {},
   "outputs": [
    {
     "name": "stderr",
     "output_type": "stream",
     "text": [
      "/tmp/ipykernel_26388/4062834737.py:17: MatplotlibDeprecationWarning: Auto-removal of grids by pcolor() and pcolormesh() is deprecated since 3.5 and will be removed two minor releases later; please call grid(False) first.\n",
      "  cbar = plt.colorbar(colormap)\n"
     ]
    }
   ],
   "source": [
    "def plot_colourline(x,y,c):\n",
    "    cm = plt.get_cmap(\"viridis\")\n",
    "    norm = matplotlib.colors.Normalize(vmin=min(c), vmax=max(c))\n",
    "    sm = plt.cm.ScalarMappable(cmap=cm, norm=norm)\n",
    "    sm.set_array([])\n",
    "    ax = plt.subplot(2,1,1)\n",
    "    plt.title(\"Interpolated path with velocities\")\n",
    "    for i in np.arange(len(x)-1):\n",
    "        ax.plot([x[i],x[i+1]], [y[i],y[i+1]], c=cm(norm(c[i])), linewidth = 5)\n",
    "    plt.xlabel(\"X [mm]\")\n",
    "    plt.ylabel(\"Y [mm]\")\n",
    "    return sm, cm\n",
    "\n",
    "plt.figure(figsize=(20, 15), dpi=90)\n",
    "plt.gca().set_aspect('equal')\n",
    "colormap, _ = plot_colourline(data.x, data.z, data.f)\n",
    "cbar = plt.colorbar(colormap)\n",
    "cbar.set_label(\"Feedrate [mm/min]\", labelpad=10)"
   ]
  },
  {
   "cell_type": "code",
   "execution_count": null,
   "metadata": {},
   "outputs": [],
   "source": []
  }
 ],
 "metadata": {
  "kernelspec": {
   "display_name": "Python 3.8.10 64-bit",
   "language": "python",
   "name": "python3"
  },
  "language_info": {
   "codemirror_mode": {
    "name": "ipython",
    "version": 3
   },
   "file_extension": ".py",
   "mimetype": "text/x-python",
   "name": "python",
   "nbconvert_exporter": "python",
   "pygments_lexer": "ipython3",
   "version": "3.8.10"
  },
  "orig_nbformat": 4,
  "vscode": {
   "interpreter": {
    "hash": "916dbcbb3f70747c44a77c7bcd40155683ae19c65e1c03b4aa3499c5328201f1"
   }
  }
 },
 "nbformat": 4,
 "nbformat_minor": 2
}
